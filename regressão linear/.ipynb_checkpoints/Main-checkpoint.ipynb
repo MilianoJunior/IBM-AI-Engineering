{
 "cells": [
  {
   "cell_type": "markdown",
   "metadata": {},
   "source": [
    "#Regressão Linear\n",
    "Objetivo: Considerando o conjunto de dados que relaciona características veiculares a emissão de co2(gás carbonico), esse trabalho busca prever a emissão de co2 para veiculos não rotulados.\n",
    "O conjunto de dados pode ser dividido em variáveis independentes e dependentes. As variáveis independentes são aquelas que estabelecem as caracteriscas dos previsores, e as variáveis dependentes são aquelas ques estamos tentando prever.\n",
    "A relação entre variáveis estabelece os coeficientes da equação polinomial. Um fator importante, é verificar a continuidade do modelo, ou seja, a variável depedente deve ser continua, e não discreta.\n",
    "A equação polinomial, pode ser descrita em:\n",
    "$$ y = d0 + d1*x1 $$\n",
    " $$ x_ {1,2} = \\ frac {-b \\ pm \\ sqrt {b ^ 2-4ac}} {2b}. $$\n"
   ]
  },
  {
   "cell_type": "code",
   "execution_count": null,
   "metadata": {},
   "outputs": [],
   "source": []
  }
 ],
 "metadata": {
  "kernelspec": {
   "display_name": "Python 3",
   "language": "python",
   "name": "python3"
  },
  "language_info": {
   "codemirror_mode": {
    "name": "ipython",
    "version": 3
   },
   "file_extension": ".py",
   "mimetype": "text/x-python",
   "name": "python",
   "nbconvert_exporter": "python",
   "pygments_lexer": "ipython3",
   "version": "3.8.5"
  }
 },
 "nbformat": 4,
 "nbformat_minor": 4
}

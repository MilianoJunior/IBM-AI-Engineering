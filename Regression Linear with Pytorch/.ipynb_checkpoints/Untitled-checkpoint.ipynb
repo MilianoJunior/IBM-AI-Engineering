{
 "cells": [
  {
   "cell_type": "markdown",
   "metadata": {},
   "source": [
    "## Simples regressão linear\n",
    "\n",
    "Regressão linear ajuda a entender a relação entre duas variáveis. As variáveis independentes que é o recurso disponível para fazer a previsão e os rótulos que são variáveis dependentes.  "
   ]
  },
  {
   "cell_type": "code",
   "execution_count": 1,
   "metadata": {
    "hide_input": false
   },
   "outputs": [],
   "source": [
    "# importar bibliotecas\n",
    "import torch  "
   ]
  },
  {
   "cell_type": "code",
   "execution_count": 2,
   "metadata": {},
   "outputs": [],
   "source": [
    "w = torch.tensor(2.0,requires_grad=True)     #Inclinação da reta\n",
    "b = torch.tensor(-1.0,requires_grad=True)    #Viés da reta"
   ]
  },
  {
   "cell_type": "code",
   "execution_count": 3,
   "metadata": {
    "hide_input": false
   },
   "outputs": [],
   "source": [
    "# Equação determinada por w e b de uma regressão linear \n",
    "def forward(x):\n",
    "    y = w*x+b\n",
    "    return y "
   ]
  },
  {
   "cell_type": "code",
   "execution_count": 5,
   "metadata": {},
   "outputs": [
    {
     "name": "stdout",
     "output_type": "stream",
     "text": [
      "previsão: tensor([[1.],\n",
      "        [3.]], grad_fn=<AddBackward0>)\n"
     ]
    }
   ],
   "source": [
    "# cria-se uma variável x independete para obter a variável dependente através da equação\n",
    "x = torch.tensor([[1.0],[2.0]])\n",
    "# previsão através da equação já conhecida\n",
    "yhat = forward(x)\n",
    "print(f'previsão: {yhat}')"
   ]
  },
  {
   "cell_type": "code",
   "execution_count": null,
   "metadata": {},
   "outputs": [],
   "source": [
    "# Construtor linear para produzir um modelo linear com Pytorch\n"
   ]
  }
 ],
 "metadata": {
  "kernelspec": {
   "display_name": "Python 3",
   "language": "python",
   "name": "python3"
  },
  "language_info": {
   "codemirror_mode": {
    "name": "ipython",
    "version": 3
   },
   "file_extension": ".py",
   "mimetype": "text/x-python",
   "name": "python",
   "nbconvert_exporter": "python",
   "pygments_lexer": "ipython3",
   "version": "3.8.5"
  }
 },
 "nbformat": 4,
 "nbformat_minor": 4
}
